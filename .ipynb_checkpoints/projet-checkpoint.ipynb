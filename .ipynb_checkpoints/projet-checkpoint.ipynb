{
 "cells": [
  {
   "cell_type": "markdown",
   "metadata": {},
   "source": [
    "# Projet ARF : inpainting \n",
    "##### TREÜ Marc ; KARMIM Yannis"
   ]
  },
  {
   "cell_type": "markdown",
   "metadata": {},
   "source": [
    "### Préambule : régression linéaire, régression ridge et LASSO"
   ]
  },
  {
   "cell_type": "code",
   "execution_count": 121,
   "metadata": {},
   "outputs": [],
   "source": [
    "import numpy as np\n",
    "import sklearn\n",
    "from sklearn.linear_model import LinearRegression,Ridge, RidgeCV, Lasso, LassoCV\n",
    "from sklearn import preprocessing"
   ]
  },
  {
   "cell_type": "code",
   "execution_count": 122,
   "metadata": {},
   "outputs": [],
   "source": [
    "# Chargement des données USPS. \n",
    "\n",
    "def load_usps(filename):\n",
    "    with open(filename,\"r\") as f:\n",
    "        f.readline()\n",
    "        data =[ [float(x) for x in l.split()] for l in f if len(l.split())>2]\n",
    "    tmp = np.array(data)\n",
    "    return tmp[:,1:],tmp[:,0].astype(int)"
   ]
  },
  {
   "cell_type": "code",
   "execution_count": 123,
   "metadata": {},
   "outputs": [],
   "source": [
    "train = load_usps('data/USPS_train.txt')\n",
    "trainX, trainY = train\n",
    "test = load_usps('data/USPS_test.txt')\n",
    "testX, testY = test"
   ]
  },
  {
   "cell_type": "markdown",
   "metadata": {},
   "source": [
    "On fait une fonction qui permet de séléctionner deux classes dans USPS, afin de faire de la classification à l'aide de la régression linéaire. "
   ]
  },
  {
   "cell_type": "markdown",
   "metadata": {},
   "source": [
    "#### Regression Linéaire"
   ]
  },
  {
   "cell_type": "code",
   "execution_count": 124,
   "metadata": {},
   "outputs": [],
   "source": [
    "def fit_linear_regression(n1,n2,dataX,dataY):\n",
    "    \n",
    "    \"\"\"Compare deux classes représentant les nombres n1 et n2\n",
    "    en utilisant une régression linéaire .\"\"\"\n",
    "    \n",
    "    X = dataX[np.where(np.in1d(dataY, [n1,n2]))]\n",
    "    Y = dataY[np.where(np.in1d(dataY, [n1,n2]))]\n",
    "    \n",
    "    \n",
    "    \n",
    "    return LinearRegression().fit(X,Y)"
   ]
  },
  {
   "cell_type": "code",
   "execution_count": 125,
   "metadata": {},
   "outputs": [],
   "source": [
    "# Choix des classes : \n",
    "n1 = 4\n",
    "n2 = 7\n",
    "\n",
    "reg = compare_classe(n1,n2,trainX,trainY)"
   ]
  },
  {
   "cell_type": "code",
   "execution_count": 126,
   "metadata": {},
   "outputs": [
    {
     "data": {
      "text/plain": [
       "0.7972470735084725"
      ]
     },
     "execution_count": 126,
     "metadata": {},
     "output_type": "execute_result"
    }
   ],
   "source": [
    "reg.score(testX[np.where(np.in1d(testY, [n1,n2]))],testY[np.where(np.in1d(testY, [n1,n2]))])"
   ]
  },
  {
   "cell_type": "markdown",
   "metadata": {},
   "source": [
    "#### Ridge Regression ( sans Cross Val ) "
   ]
  },
  {
   "cell_type": "code",
   "execution_count": 127,
   "metadata": {},
   "outputs": [],
   "source": [
    "def fit_ridge_regression(n1,n2,dataX,dataY,alpha=1.0):\n",
    "    \"\"\"Compare deux classes représentant les nombres n1 et n2\n",
    "    en utilisant une Ridge Regression.\"\"\"\n",
    "    \n",
    "    X = dataX[np.where(np.in1d(dataY, [n1,n2]))]\n",
    "    Y = dataY[np.where(np.in1d(dataY, [n1,n2]))]\n",
    "    \n",
    "    \n",
    "    \n",
    "    return Ridge(alpha=alpha).fit(X,Y)"
   ]
  },
  {
   "cell_type": "code",
   "execution_count": 128,
   "metadata": {},
   "outputs": [],
   "source": [
    "\n",
    "ridge = fit_ridge_regression(n1,n2,trainX,trainY,alpha=1.0)"
   ]
  },
  {
   "cell_type": "code",
   "execution_count": 129,
   "metadata": {},
   "outputs": [
    {
     "data": {
      "text/plain": [
       "0.8140303534137986"
      ]
     },
     "execution_count": 129,
     "metadata": {},
     "output_type": "execute_result"
    }
   ],
   "source": [
    "ridge.score(testX[np.where(np.in1d(testY, [n1,n2]))],testY[np.where(np.in1d(testY, [n1,n2]))])"
   ]
  },
  {
   "cell_type": "markdown",
   "metadata": {},
   "source": [
    "#### Ridge Regression ( avec Cross Val )"
   ]
  },
  {
   "cell_type": "code",
   "execution_count": 130,
   "metadata": {},
   "outputs": [],
   "source": [
    "def fit_ridge_regressionCV(n1,n2,dataX,dataY,nb_cv = 10):\n",
    "    \"\"\"Compare deux classes représentant les nombres n1 et n2\n",
    "    en utilisant une Ridge Regression avec Cross Val.\"\"\"\n",
    "    \n",
    "    X = dataX[np.where(np.in1d(dataY, [n1,n2]))]\n",
    "    Y = dataY[np.where(np.in1d(dataY, [n1,n2]))]\n",
    "    clf = RidgeCV(cv = nb_cv)\n",
    "    clf.fit(X,Y)\n",
    "    print(\"Meilleur alpha trouvé par Cross Validation : \",clf.alpha_)\n",
    "    \n",
    "    return clf "
   ]
  },
  {
   "cell_type": "code",
   "execution_count": 131,
   "metadata": {},
   "outputs": [
    {
     "name": "stdout",
     "output_type": "stream",
     "text": [
      "Meilleur alpha trouvé par Cross Validation :  10.0\n"
     ]
    }
   ],
   "source": [
    "ridgeCV = fit_ridge_regressionCV(n1,n2,trainX,trainY,nb_cv=10)\n"
   ]
  },
  {
   "cell_type": "code",
   "execution_count": 132,
   "metadata": {},
   "outputs": [
    {
     "data": {
      "text/plain": [
       "0.8225618454000782"
      ]
     },
     "execution_count": 132,
     "metadata": {},
     "output_type": "execute_result"
    }
   ],
   "source": [
    "ridgeCV.score(testX[np.where(np.in1d(testY, [n1,n2]))],testY[np.where(np.in1d(testY, [n1,n2]))])"
   ]
  },
  {
   "cell_type": "markdown",
   "metadata": {},
   "source": [
    "#### LASSO "
   ]
  },
  {
   "cell_type": "code",
   "execution_count": 138,
   "metadata": {},
   "outputs": [],
   "source": [
    "def fit_LASSO(n1,n2,dataX,dataY,alpha = 10):\n",
    "    \"\"\"Compare deux classes représentant les nombres n1 et n2\n",
    "    en utilisant une Ridge Regression avec Cross Val.\"\"\"\n",
    "    \n",
    "    X = dataX[np.where(np.in1d(dataY, [n1,n2]))]\n",
    "    Y = dataY[np.where(np.in1d(dataY, [n1,n2]))]\n",
    "    clf = Lasso(alpha = alpha)\n",
    "    clf.fit(X,Y)\n",
    "    \n",
    "    \n",
    "    return clf "
   ]
  },
  {
   "cell_type": "code",
   "execution_count": 143,
   "metadata": {},
   "outputs": [],
   "source": [
    "lasso = fit_LASSO(n1,n2,trainX,trainY,alpha=0.1)"
   ]
  },
  {
   "cell_type": "code",
   "execution_count": 144,
   "metadata": {},
   "outputs": [
    {
     "data": {
      "text/plain": [
       "0.7722916806139399"
      ]
     },
     "execution_count": 144,
     "metadata": {},
     "output_type": "execute_result"
    }
   ],
   "source": [
    "lasso.score(testX[np.where(np.in1d(testY, [n1,n2]))],testY[np.where(np.in1d(testY, [n1,n2]))])"
   ]
  },
  {
   "cell_type": "code",
   "execution_count": 148,
   "metadata": {},
   "outputs": [],
   "source": [
    "def fit_LASSO_CV(n1,n2,dataX,dataY,nb_cv = 10):\n",
    "    \"\"\"Compare deux classes représentant les nombres n1 et n2\n",
    "    en utilisant une Ridge Regression avec Cross Val.\"\"\"\n",
    "    \n",
    "    X = dataX[np.where(np.in1d(dataY, [n1,n2]))]\n",
    "    Y = dataY[np.where(np.in1d(dataY, [n1,n2]))]\n",
    "    clf = LassoCV(cv = nb_cv)\n",
    "    clf.fit(X,Y)\n",
    "    print(\"Meilleur alpha trouvé par Cross Validation : \",clf.alpha_)\n",
    "    \n",
    "    return clf "
   ]
  },
  {
   "cell_type": "code",
   "execution_count": 149,
   "metadata": {},
   "outputs": [
    {
     "name": "stdout",
     "output_type": "stream",
     "text": [
      "Meilleur alpha trouvé par Cross Validation :  0.007311354380425852\n"
     ]
    }
   ],
   "source": [
    "lassoCV = fit_LASSO_CV(n1,n2,trainX,trainY)"
   ]
  },
  {
   "cell_type": "code",
   "execution_count": 150,
   "metadata": {},
   "outputs": [
    {
     "data": {
      "text/plain": [
       "0.8235462778648425"
      ]
     },
     "execution_count": 150,
     "metadata": {},
     "output_type": "execute_result"
    }
   ],
   "source": [
    "lassoCV.score(testX[np.where(np.in1d(testY, [n1,n2]))],testY[np.where(np.in1d(testY, [n1,n2]))])"
   ]
  },
  {
   "cell_type": "markdown",
   "metadata": {},
   "source": [
    "En bonus faire une matrice de confusion pour les trois modèles\n"
   ]
  },
  {
   "cell_type": "markdown",
   "metadata": {},
   "source": [
    "### LASSO et Inpainting"
   ]
  },
  {
   "cell_type": "code",
   "execution_count": null,
   "metadata": {},
   "outputs": [],
   "source": []
  }
 ],
 "metadata": {
  "kernelspec": {
   "display_name": "Python 3",
   "language": "python",
   "name": "python3"
  },
  "language_info": {
   "codemirror_mode": {
    "name": "ipython",
    "version": 3
   },
   "file_extension": ".py",
   "mimetype": "text/x-python",
   "name": "python",
   "nbconvert_exporter": "python",
   "pygments_lexer": "ipython3",
   "version": "3.6.8"
  }
 },
 "nbformat": 4,
 "nbformat_minor": 2
}
